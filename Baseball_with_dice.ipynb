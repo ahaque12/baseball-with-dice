{
  "nbformat": 4,
  "nbformat_minor": 0,
  "metadata": {
    "colab": {
      "name": "Baseball with dice.ipynb",
      "version": "0.3.2",
      "provenance": [],
      "include_colab_link": true
    },
    "kernelspec": {
      "name": "python3",
      "display_name": "Python 3"
    }
  },
  "cells": [
    {
      "cell_type": "markdown",
      "metadata": {
        "id": "view-in-github",
        "colab_type": "text"
      },
      "source": [
        "<a href=\"https://colab.research.google.com/github/ahaque12/baseball-with-dice/blob/master/Baseball_with_dice.ipynb\" target=\"_parent\"><img src=\"https://colab.research.google.com/assets/colab-badge.svg\" alt=\"Open In Colab\"/></a>"
      ]
    },
    {
      "metadata": {
        "id": "vUWh-kOyYcOq",
        "colab_type": "text"
      },
      "cell_type": "markdown",
      "source": [
        "# Riddler Express - Baseball with dice\n",
        "\n",
        "https://fivethirtyeight.com/features/can-you-turn-americas-pastime-into-a-game-of-yahtzee/\n",
        "\n",
        "Over the years, people have invented many games that simulate baseball using two standard dice. In these games, each dice roll corresponds with a baseball event. Two players take turns rolling dice and tracking what happens on the field. Suppose you happen to be an ardent devotee of one of these simulated games from the late 19th century, called Our National Ball Game, which assigns rolls to baseball outcomes like so:\n",
        "\n",
        "1, 1: double\n",
        "\n",
        "1, 2: single\n",
        "\n",
        "1, 3: single\n",
        "\n",
        "1, 4: single\n",
        "\n",
        "1, 5: base on error\n",
        "\n",
        "1, 6: base on balls\n",
        "\n",
        "2, 2: strike\n",
        "\n",
        "2, 3: strike\n",
        "\n",
        "2, 4: strike\n",
        "\n",
        "2, 5: strike\n",
        "\n",
        "2, 6: foul out\n",
        "\n",
        "3, 3: out at 1st\n",
        "\n",
        "3, 4: out at 1st\n",
        "\n",
        "3, 5: out at 1st\n",
        "\n",
        "3, 6: out at 1st\n",
        "\n",
        "4, 4: fly out\n",
        "\n",
        "4, 5: fly out\n",
        "\n",
        "4, 6: fly out\n",
        "\n",
        "5, 5: double play\n",
        "\n",
        "5, 6: triple\n",
        "\n",
        "6, 6: home run\n",
        "\n",
        "Given those rules, what’s the average number of runs that would be scored in nine innings of this dice game? What’s the distribution of the number of runs scored? (Histograms welcome.) You can assume some standard baseball things, like runners scoring from second on singles and runners scoring from third on fly outs."
      ]
    },
    {
      "metadata": {
        "id": "9rETPfaYfZzg",
        "colab_type": "code",
        "colab": {}
      },
      "cell_type": "code",
      "source": [
        "%matplotlib inline\n",
        "\n",
        "import numpy as np\n",
        "import pandas as pd\n",
        "import matplotlib.pyplot as plt\n",
        "\n",
        "plt.style.use('fivethirtyeight')"
      ],
      "execution_count": 0,
      "outputs": []
    },
    {
      "metadata": {
        "id": "8-34VngVYZ9s",
        "colab_type": "code",
        "colab": {
          "base_uri": "https://localhost:8080/",
          "height": 34
        },
        "outputId": "aa27cc4c-c5ec-4955-932b-f3958c64a393"
      },
      "cell_type": "code",
      "source": [
        "outcomes = ['double', 'single', 'single', 'single', 'base on error', 'base on balls', 'strike', 'strike', 'strike', 'strike', 'foul out', 'out at 1st', 'out at 1st', 'out at 1st', 'out at 1st', 'fly out', 'fly out', 'fly out', 'double play', 'triple', 'home run']\n",
        "outcome_index = np.cumsum(range(6, 0, -1))\n",
        "print(outcome_index)\n",
        "\n",
        "def int_to_outcome(x):\n",
        "  if x > 35:\n",
        "    raise ValueError('Number is too large!')\n",
        "  if x < 0:\n",
        "    raise ValueError('Number cannot be less than zero!')\n",
        "    \n",
        "  a, b = x // 6, x % 6\n",
        "  a += 1\n",
        "  b += 1\n",
        "  if b < a:\n",
        "    return roll(b, a)\n",
        "  else:\n",
        "    return roll(b, a)\n",
        "    \n",
        "def roll(a, b):\n",
        "  if a == 1:\n",
        "    return outcomes[b - 1]\n",
        "  else:\n",
        "    return outcomes[outcome_index[a-2] + (b-a)]\n",
        "\n",
        "assert(roll(2, 6)) == 'foul out'\n",
        "assert int_to_outcome(0) == 'double'\n",
        "assert int_to_outcome(6) == 'single'\n",
        "assert int_to_outcome(7) == 'strike'\n",
        "assert int_to_outcome(35) == 'home run'"
      ],
      "execution_count": 2,
      "outputs": [
        {
          "output_type": "stream",
          "text": [
            "[ 6 11 15 18 20 21]\n"
          ],
          "name": "stdout"
        }
      ]
    },
    {
      "metadata": {
        "id": "H0xiKsOYbCI4",
        "colab_type": "code",
        "colab": {
          "base_uri": "https://localhost:8080/",
          "height": 374
        },
        "outputId": "3ac7d8f7-f145-46ec-d0f1-373bfa27222f"
      },
      "cell_type": "code",
      "source": [
        "for i in range(1, 7):\n",
        "  for j in range(i, 7):\n",
        "    print(i, j, roll(i, j))"
      ],
      "execution_count": 3,
      "outputs": [
        {
          "output_type": "stream",
          "text": [
            "1 1 double\n",
            "1 2 single\n",
            "1 3 single\n",
            "1 4 single\n",
            "1 5 base on error\n",
            "1 6 base on balls\n",
            "2 2 strike\n",
            "2 3 strike\n",
            "2 4 strike\n",
            "2 5 strike\n",
            "2 6 foul out\n",
            "3 3 out at 1st\n",
            "3 4 out at 1st\n",
            "3 5 out at 1st\n",
            "3 6 out at 1st\n",
            "4 4 fly out\n",
            "4 5 fly out\n",
            "4 6 fly out\n",
            "5 5 double play\n",
            "5 6 triple\n",
            "6 6 home run\n"
          ],
          "name": "stdout"
        }
      ]
    },
    {
      "metadata": {
        "id": "y7nDDci6fzXW",
        "colab_type": "code",
        "colab": {}
      },
      "cell_type": "code",
      "source": [
        "class Play():\n",
        "\n",
        "  def __init__(self):\n",
        "      self.bases = np.array([0, 0, 0])\n",
        "      self.outs = 0\n",
        "      self.strikes = 0\n",
        "      self.runs = 0\n",
        "  \n",
        "  def move_players(self, moves=1):\n",
        "    self.bases[2] = 0\n",
        "    if moves == 1:\n",
        "      self.bases[2] = self.bases[1]\n",
        "      self.bases[1] = self.bases[0]\n",
        "      self.bases[0] = 1\n",
        "    elif moves == 2:\n",
        "      self.bases[2] = self.bases[0]\n",
        "      self.bases[0] = 0\n",
        "      self.bases[1] = 1\n",
        "    elif moves == 3:\n",
        "      self.bases.fill(0)\n",
        "      self.bases[2] = 1\n",
        "      \n",
        "  def is_done(self):\n",
        "    return self.outs >= 3\n",
        "      \n",
        "  def walk(self):\n",
        "    if self.bases[0] == 1:\n",
        "      if self.bases[1] == 1:\n",
        "        if self.bases[2] == 0:\n",
        "          self.bases[2] = 1\n",
        "      else:\n",
        "        self.bases[1] = 0\n",
        "    \n",
        "  def move(self, move):\n",
        "    if move == 'single':\n",
        "      self.runs += self.bases[2]\n",
        "      self.move_players(1)\n",
        "    elif move == 'double':\n",
        "      self.runs += self.bases[1:].sum()\n",
        "      self.move_players(2)\n",
        "    elif move == 'triple':\n",
        "      self.runs += self.bases.sum()\n",
        "      self.move_players(3)\n",
        "    elif (move == 'base on error') or (move == 'base on balls'):\n",
        "      if self.bases.sum() == 3:\n",
        "        self.runs += 1\n",
        "      self.walk()\n",
        "    elif move == 'home run':\n",
        "      self.runs += self.bases.sum() + 1\n",
        "    elif move == 'strike':\n",
        "      self.strikes += 1\n",
        "      if self.strikes >= 3:\n",
        "        self.outs += 1\n",
        "        self.strikes = 0\n",
        "    elif (move == 'foul out') or (move == 'fly out') or (move == 'out at 1st'):\n",
        "      self.outs += 1\n",
        "      "
      ],
      "execution_count": 0,
      "outputs": []
    },
    {
      "metadata": {
        "id": "epRIFEQqo46J",
        "colab_type": "code",
        "colab": {}
      },
      "cell_type": "code",
      "source": [
        "def simulate_half_inning():\n",
        "  play = Play()\n",
        "  while not play.is_done():\n",
        "    r = np.random.randint(0, 36)\n",
        "    move = int_to_outcome(r)\n",
        "    play.move(move)\n",
        "  return play.runs"
      ],
      "execution_count": 0,
      "outputs": []
    },
    {
      "metadata": {
        "id": "5O00m1JArX8C",
        "colab_type": "code",
        "colab": {
          "base_uri": "https://localhost:8080/",
          "height": 34
        },
        "outputId": "40bcab60-5ad2-4a4f-a4a6-acb8377d7651"
      },
      "cell_type": "code",
      "source": [
        "from tqdm import tqdm\n",
        "N = 1000000\n",
        "\n",
        "half_innings = []\n",
        "for i in tqdm(range(N)):\n",
        "  half_innings.append(simulate_half_inning())\n",
        "  \n",
        "half_innings = np.array(half_innings)"
      ],
      "execution_count": 6,
      "outputs": [
        {
          "output_type": "stream",
          "text": [
            "100%|██████████| 1000000/1000000 [00:30<00:00, 32969.50it/s]\n"
          ],
          "name": "stderr"
        }
      ]
    },
    {
      "metadata": {
        "id": "4iDMw76ltSzx",
        "colab_type": "code",
        "colab": {
          "base_uri": "https://localhost:8080/",
          "height": 51
        },
        "outputId": "94167626-5bd6-478f-cadf-08a3a04f562d"
      },
      "cell_type": "code",
      "source": [
        "print(\"Mean runs in a half inning is\", half_innings.mean())\n",
        "print(\"Standard deviation of runs in a half inning is\", half_innings.std())"
      ],
      "execution_count": 7,
      "outputs": [
        {
          "output_type": "stream",
          "text": [
            "Mean runs in a half inning is 0.496422\n",
            "Standard deviation of runs in a half inning is 1.0277135777618198\n"
          ],
          "name": "stdout"
        }
      ]
    },
    {
      "metadata": {
        "id": "Amdb8gQVsv-p",
        "colab_type": "code",
        "colab": {
          "base_uri": "https://localhost:8080/",
          "height": 321
        },
        "outputId": "e23ab87e-1cf1-4d0b-804f-41da15c4d44e"
      },
      "cell_type": "code",
      "source": [
        "plt.hist(half_innings)\n",
        "plt.xlabel(\"Runs\")\n",
        "plt.title(\"Histogram of runs scored per half inning\");"
      ],
      "execution_count": 8,
      "outputs": [
        {
          "output_type": "display_data",
          "data": {
            "image/png": "[encoded data removed]",
            "text/plain": [
              "<Figure size 432x288 with 1 Axes>"
            ]
          },
          "metadata": {
            "tags": []
          }
        }
      ]
    },
    {
      "metadata": {
        "id": "xyZSxD9fvRKC",
        "colab_type": "code",
        "colab": {
          "base_uri": "https://localhost:8080/",
          "height": 170
        },
        "outputId": "66f0f9c7-1cd3-455a-d2d8-bfdcfb15a155"
      },
      "cell_type": "code",
      "source": [
        "pd.Series(half_innings).describe()"
      ],
      "execution_count": 9,
      "outputs": [
        {
          "output_type": "execute_result",
          "data": {
            "text/plain": [
              "count    1000000.000000\n",
              "mean           0.496422\n",
              "std            1.027714\n",
              "min            0.000000\n",
              "25%            0.000000\n",
              "50%            0.000000\n",
              "75%            1.000000\n",
              "max           18.000000\n",
              "dtype: float64"
            ]
          },
          "metadata": {
            "tags": []
          },
          "execution_count": 9
        }
      ]
    },
    {
      "metadata": {
        "id": "YS0pl7BhwJ7w",
        "colab_type": "code",
        "colab": {
          "base_uri": "https://localhost:8080/",
          "height": 417
        },
        "outputId": "8d881b87-1586-4096-b4ca-500c4c52d777"
      },
      "cell_type": "code",
      "source": [
        "import scipy\n",
        "import scipy.stats\n",
        "size = 1000\n",
        "\n",
        "fig, ax = plt.subplots()\n",
        "ax.hist(half_innings[:size], density=True, label='histogram')\n",
        "x = np.linspace(.1, 4, 100)\n",
        "\n",
        "dist_names = ['norm', 'expon', 'pareto', 'exponweib', 'weibull_min']\n",
        "\n",
        "for dist_name in dist_names:\n",
        "    dist = getattr(scipy.stats, dist_name)\n",
        "    param = dist.fit(half_innings[:size])\n",
        "    pdf_fitted = dist.pdf(x, *param[:-2], loc=param[-2], scale=param[-1])\n",
        "    ax.plot(x, pdf_fitted, label=dist_name)\n",
        "    ax.set_xlim(0, 8)\n",
        "    print(\"Log likelihood of\", dist_name, dist.nnlf(param, half_innings[:size]))\n",
        "plt.legend(loc='upper right')"
      ],
      "execution_count": 10,
      "outputs": [
        {
          "output_type": "stream",
          "text": [
            "Log likelihood of norm 1477.084606732824\n",
            "Log likelihood of expon 253.45204271293937\n",
            "Log likelihood of pareto -7029.573571929426\n"
          ],
          "name": "stdout"
        },
        {
          "output_type": "stream",
          "text": [
            "/usr/local/lib/python3.6/dist-packages/scipy/stats/_distn_infrastructure.py:2305: RuntimeWarning: invalid value encountered in double_scalars\n",
            "  Lhat = muhat - Shat*mu\n"
          ],
          "name": "stderr"
        },
        {
          "output_type": "stream",
          "text": [
            "Log likelihood of exponweib -25230.068097422947\n",
            "Log likelihood of weibull_min -29831.342980587295\n"
          ],
          "name": "stdout"
        },
        {
          "output_type": "execute_result",
          "data": {
            "text/plain": [
              "<matplotlib.legend.Legend at 0x7f6df919d048>"
            ]
          },
          "metadata": {
            "tags": []
          },
          "execution_count": 10
        },
        {
          "output_type": "display_data",
          "data": {
            "image/png": "[encoded data removed]",
            "text/plain": [
              "<Figure size 432x288 with 1 Axes>"
            ]
          },
          "metadata": {
            "tags": []
          }
        }
      ]
    },
    {
      "metadata": {
        "id": "Cxs4Na9lt4sh",
        "colab_type": "code",
        "colab": {
          "base_uri": "https://localhost:8080/",
          "height": 321
        },
        "outputId": "70478918-c3c2-4b7f-aaab-9c329e5f2cb1"
      },
      "cell_type": "code",
      "source": [
        "nine_innings = half_innings[:(N - (N % 18))].reshape((18, -1)).sum(axis=0)\n",
        "\n",
        "plt.hist(nine_innings)\n",
        "plt.xlabel(\"Runs\")\n",
        "plt.title(\"Histogram of runs scored per nine innings for both team\");"
      ],
      "execution_count": 11,
      "outputs": [
        {
          "output_type": "display_data",
          "data": {
            "image/png": "[encoded data removed]",
            "text/plain": [
              "<Figure size 432x288 with 1 Axes>"
            ]
          },
          "metadata": {
            "tags": []
          }
        }
      ]
    },
    {
      "metadata": {
        "id": "1XtEc7bTvKMp",
        "colab_type": "code",
        "colab": {
          "base_uri": "https://localhost:8080/",
          "height": 170
        },
        "outputId": "eac72f7b-c2d1-413b-eec8-d823d3fe28e3"
      },
      "cell_type": "code",
      "source": [
        "pd.Series(nine_innings).describe()"
      ],
      "execution_count": 12,
      "outputs": [
        {
          "output_type": "execute_result",
          "data": {
            "text/plain": [
              "count    55555.000000\n",
              "mean         8.935577\n",
              "std          4.368894\n",
              "min          0.000000\n",
              "25%          6.000000\n",
              "50%          8.000000\n",
              "75%         12.000000\n",
              "max         43.000000\n",
              "dtype: float64"
            ]
          },
          "metadata": {
            "tags": []
          },
          "execution_count": 12
        }
      ]
    },
    {
      "metadata": {
        "id": "ltOLo1bysoLv",
        "colab_type": "code",
        "colab": {
          "base_uri": "https://localhost:8080/",
          "height": 34
        },
        "outputId": "7550249a-b456-4bbc-947e-9e1ce5df3687"
      },
      "cell_type": "code",
      "source": [
        "print(\"The average number of runs in 9 innings between both teams is {}\".format(18*half_innings.mean()))"
      ],
      "execution_count": 13,
      "outputs": [
        {
          "output_type": "stream",
          "text": [
            "The average number of runs in 9 innings between both teams is 8.935596\n"
          ],
          "name": "stdout"
        }
      ]
    }
  ]
}